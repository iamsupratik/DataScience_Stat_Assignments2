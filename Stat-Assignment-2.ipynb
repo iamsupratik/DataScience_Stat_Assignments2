{
 "cells": [
  {
   "cell_type": "markdown",
   "metadata": {},
   "source": [
    "Problem Statement 1:\n",
    "A test is conducted which is consisting of 20 MCQs (multiple choices questions) with\n",
    "every MCQ having its four options out of which only one is correct. Determine the\n",
    "probability that a person undertaking that test has answered exactly 5 questions wrong."
   ]
  },
  {
   "cell_type": "code",
   "execution_count": 21,
   "metadata": {},
   "outputs": [],
   "source": [
    "import numpy as np\n",
    "import pandas as pd\n",
    "import scipy\n",
    "import scipy.stats as stats\n",
    "from scipy.stats import binom\n",
    "import matplotlib.pyplot as plt\n",
    "\n",
    "%matplotlib inline"
   ]
  },
  {
   "cell_type": "code",
   "execution_count": 36,
   "metadata": {},
   "outputs": [
    {
     "name": "stdout",
     "output_type": "stream",
     "text": [
      "probability a person undertaking that test has answered exactly 5 questions wrong: 3.4264958230778435e-06\n"
     ]
    }
   ],
   "source": [
    "Number_Of_Questions = 20\n",
    "Probability_Of_Correct_Options = 1/4\n",
    "k = 5\n",
    "\n",
    "print(\"probability a person undertaking that test has answered exactly 5 questions wrong:\",binom.pmf(5, Number_Of_Questions, 3/4))\n",
    "\n"
   ]
  },
  {
   "cell_type": "markdown",
   "metadata": {},
   "source": [
    "Problem Statement 2:\n",
    "A die marked A to E is rolled 50 times. Find the probability of getting a “D” exactly 5\n",
    "times."
   ]
  },
  {
   "cell_type": "code",
   "execution_count": 33,
   "metadata": {},
   "outputs": [
    {
     "name": "stdout",
     "output_type": "stream",
     "text": [
      "probability of getting a “D” exactly 5 times is: 0.029531204310523224\n"
     ]
    }
   ],
   "source": [
    "Number_of_rolls = 50\n",
    "probability_Of_Success = 1/5\n",
    "k = 5\n",
    "print(\"probability of getting a “D” exactly 5 times is:\",binom.pmf(k, Number_of_rolls, probability_Of_Success))"
   ]
  },
  {
   "cell_type": "markdown",
   "metadata": {},
   "source": [
    "##Problem Statement 3:\n",
    "Two balls are drawn at random in succession without replacement from an urn\n",
    "containing 4 red balls and 6 black balls.\n",
    "Find the probabilities of all the possible outcomes."
   ]
  },
  {
   "cell_type": "code",
   "execution_count": 54,
   "metadata": {},
   "outputs": [
    {
     "name": "stdout",
     "output_type": "stream",
     "text": [
      "Probability_Of_getting_two_red_balls is: 0.13333333333333333\n",
      "Probability_Of_getting_one_red_ball_and_one_black_ball is: 0.26666666666666666\n",
      "Probability_Of_getting_one_black_ball_and_one_red_ball is: 0.26666666666666666\n",
      "probability_Of_One_black_ball_Or_One_blue_ball is: 0.5333333333333333\n",
      "Probability_Of_getting_two_black_balls is: 0.3333333333333333\n"
     ]
    }
   ],
   "source": [
    "Probability_Of_getting_two_red_balls = (4/10)*(3/9)\n",
    "print(\"Probability_Of_getting_two_red_balls is:\",Probability_Of_getting_two_red_balls)\n",
    "Probability_Of_getting_one_red_ball_and_one_black_ball = (4/10)*(6/9)\n",
    "print(\"Probability_Of_getting_one_red_ball_and_one_black_ball is:\",Probability_Of_getting_one_red_ball_and_one_black_ball)\n",
    "Probability_Of_getting_one_black_ball_and_one_red_ball = (6/10)*(4/9)\n",
    "print(\"Probability_Of_getting_one_black_ball_and_one_red_ball is:\",Probability_Of_getting_one_black_ball_and_one_red_ball)\n",
    "probability_Of_One_black_ball_Or_One_blue_ball =  Probability_Of_getting_one_red_ball_and_one_black_ball + Probability_Of_getting_one_black_ball_and_one_red_ball\n",
    "print(\"probability_Of_One_black_ball_Or_One_blue_ball is:\",probability_Of_One_black_ball_Or_One_blue_ball)\n",
    "Probability_Of_getting_two_black_balls = (6/10)*(5/9)\n",
    "print(\"Probability_Of_getting_two_black_balls is:\",Probability_Of_getting_two_black_balls)\n"
   ]
  }
 ],
 "metadata": {
  "kernelspec": {
   "display_name": "Python 3",
   "language": "python",
   "name": "python3"
  },
  "language_info": {
   "codemirror_mode": {
    "name": "ipython",
    "version": 3
   },
   "file_extension": ".py",
   "mimetype": "text/x-python",
   "name": "python",
   "nbconvert_exporter": "python",
   "pygments_lexer": "ipython3",
   "version": "3.6.5"
  }
 },
 "nbformat": 4,
 "nbformat_minor": 2
}
